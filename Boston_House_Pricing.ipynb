{
  "nbformat": 4,
  "nbformat_minor": 0,
  "metadata": {
    "colab": {
      "name": "Boston_House_Pricing",
      "provenance": [],
      "collapsed_sections": []
    },
    "kernelspec": {
      "name": "python3",
      "display_name": "Python 3"
    },
    "language_info": {
      "name": "python"
    }
  },
  "cells": [
    {
      "cell_type": "markdown",
      "metadata": {
        "id": "eJvlnvwjlZ5L"
      },
      "source": [
        "![](https://media.makeameme.org/created/i-can-sell-596e8a.jpg)\n",
        "\n"
      ]
    },
    {
      "cell_type": "markdown",
      "metadata": {
        "id": "Sh5OPHm9f9sA"
      },
      "source": [
        "# Weekly Project: Predicting Boston Housing prices"
      ]
    },
    {
      "cell_type": "markdown",
      "metadata": {
        "id": "poI7w8SGghl8"
      },
      "source": [
        "In this project, you will create, evaluate the performance and predictive power of your model on data collected from homes in suburbs of Boston, Massachusetts\n",
        "\n",
        "The dataset for this project originates from the UCI Machine Learning Repository. The Boston housing data was collected in 1978 and each of the **506 entries** represent aggregated data about **14 features** for homes from various suburbs in Boston, Massachusetts. \n",
        "\n",
        "**Data preprocessing has been applied to your dataset**. For the purposes of this project, the following preprocessing steps have been made to the dataset:\n",
        "\n",
        "- 16 data points have an 'MEDV' value of 50.0. These data points likely contain missing or censored values and have been removed.\n",
        "- 1 data point has an 'RM' value of 8.78. This data point can be considered an outlier and has been removed.\n",
        "- The features 'RM', 'LSTAT', 'PTRATIO', and 'MEDV' are essential. The remaining non-relevant features have been excluded.\n",
        "- The feature 'MEDV' has been multiplicatively scaled to account for 35 years of market inflation.\n",
        "\n",
        "🎯 YOUR TASK: apply a machine learning model of your choice to **predict the price** of houses in a Boston neighborhood (which is column '**MEDV**')\n",
        "\n",
        "The dataset can be accessed here: https://raw.githubusercontent.com/anhquan0412/boston_housing/master/housing.csv\n"
      ]
    },
    {
      "cell_type": "markdown",
      "metadata": {
        "id": "2rMOGC22m8N6"
      },
      "source": [
        "Here are the few steps you can follow"
      ]
    },
    {
      "cell_type": "code",
      "metadata": {
        "colab": {
          "base_uri": "https://localhost:8080/",
          "height": 204
        },
        "id": "n59zmc_NwING",
        "outputId": "582f0135-dfbb-40ae-89e8-9710a455ebc6"
      },
      "source": [
        "import pandas as pd\n",
        "df = pd.read_csv('https://raw.githubusercontent.com/anhquan0412/boston_housing/master/housing.csv')\n",
        "df.head()"
      ],
      "execution_count": null,
      "outputs": [
        {
          "output_type": "execute_result",
          "data": {
            "text/html": [
              "<div>\n",
              "<style scoped>\n",
              "    .dataframe tbody tr th:only-of-type {\n",
              "        vertical-align: middle;\n",
              "    }\n",
              "\n",
              "    .dataframe tbody tr th {\n",
              "        vertical-align: top;\n",
              "    }\n",
              "\n",
              "    .dataframe thead th {\n",
              "        text-align: right;\n",
              "    }\n",
              "</style>\n",
              "<table border=\"1\" class=\"dataframe\">\n",
              "  <thead>\n",
              "    <tr style=\"text-align: right;\">\n",
              "      <th></th>\n",
              "      <th>RM</th>\n",
              "      <th>LSTAT</th>\n",
              "      <th>PTRATIO</th>\n",
              "      <th>MEDV</th>\n",
              "    </tr>\n",
              "  </thead>\n",
              "  <tbody>\n",
              "    <tr>\n",
              "      <th>0</th>\n",
              "      <td>6.575</td>\n",
              "      <td>4.98</td>\n",
              "      <td>15.3</td>\n",
              "      <td>504000.0</td>\n",
              "    </tr>\n",
              "    <tr>\n",
              "      <th>1</th>\n",
              "      <td>6.421</td>\n",
              "      <td>9.14</td>\n",
              "      <td>17.8</td>\n",
              "      <td>453600.0</td>\n",
              "    </tr>\n",
              "    <tr>\n",
              "      <th>2</th>\n",
              "      <td>7.185</td>\n",
              "      <td>4.03</td>\n",
              "      <td>17.8</td>\n",
              "      <td>728700.0</td>\n",
              "    </tr>\n",
              "    <tr>\n",
              "      <th>3</th>\n",
              "      <td>6.998</td>\n",
              "      <td>2.94</td>\n",
              "      <td>18.7</td>\n",
              "      <td>701400.0</td>\n",
              "    </tr>\n",
              "    <tr>\n",
              "      <th>4</th>\n",
              "      <td>7.147</td>\n",
              "      <td>5.33</td>\n",
              "      <td>18.7</td>\n",
              "      <td>760200.0</td>\n",
              "    </tr>\n",
              "  </tbody>\n",
              "</table>\n",
              "</div>"
            ],
            "text/plain": [
              "      RM  LSTAT  PTRATIO      MEDV\n",
              "0  6.575   4.98     15.3  504000.0\n",
              "1  6.421   9.14     17.8  453600.0\n",
              "2  7.185   4.03     17.8  728700.0\n",
              "3  6.998   2.94     18.7  701400.0\n",
              "4  7.147   5.33     18.7  760200.0"
            ]
          },
          "metadata": {},
          "execution_count": 7
        }
      ]
    },
    {
      "cell_type": "code",
      "metadata": {
        "colab": {
          "base_uri": "https://localhost:8080/"
        },
        "id": "Q9YOvggsKi8X",
        "outputId": "3936c1f0-59b9-4a9c-8b55-a444db21eada"
      },
      "source": [
        "df.shape"
      ],
      "execution_count": null,
      "outputs": [
        {
          "output_type": "execute_result",
          "data": {
            "text/plain": [
              "(489, 4)"
            ]
          },
          "metadata": {},
          "execution_count": 8
        }
      ]
    },
    {
      "cell_type": "code",
      "metadata": {
        "colab": {
          "base_uri": "https://localhost:8080/"
        },
        "id": "U1STwjMnQNnF",
        "outputId": "352275d0-2515-43fa-8d4a-409b386c737c"
      },
      "source": [
        "df.info()"
      ],
      "execution_count": null,
      "outputs": [
        {
          "output_type": "stream",
          "name": "stdout",
          "text": [
            "<class 'pandas.core.frame.DataFrame'>\n",
            "RangeIndex: 489 entries, 0 to 488\n",
            "Data columns (total 4 columns):\n",
            " #   Column   Non-Null Count  Dtype  \n",
            "---  ------   --------------  -----  \n",
            " 0   RM       489 non-null    float64\n",
            " 1   LSTAT    489 non-null    float64\n",
            " 2   PTRATIO  489 non-null    float64\n",
            " 3   MEDV     489 non-null    float64\n",
            "dtypes: float64(4)\n",
            "memory usage: 15.4 KB\n"
          ]
        }
      ]
    },
    {
      "cell_type": "code",
      "metadata": {
        "colab": {
          "base_uri": "https://localhost:8080/",
          "height": 297
        },
        "id": "H9Sr2xkyozq4",
        "outputId": "a5f53ffd-b0bf-452d-d698-6fe525bf9e20"
      },
      "source": [
        "df.describe()"
      ],
      "execution_count": null,
      "outputs": [
        {
          "output_type": "execute_result",
          "data": {
            "text/html": [
              "<div>\n",
              "<style scoped>\n",
              "    .dataframe tbody tr th:only-of-type {\n",
              "        vertical-align: middle;\n",
              "    }\n",
              "\n",
              "    .dataframe tbody tr th {\n",
              "        vertical-align: top;\n",
              "    }\n",
              "\n",
              "    .dataframe thead th {\n",
              "        text-align: right;\n",
              "    }\n",
              "</style>\n",
              "<table border=\"1\" class=\"dataframe\">\n",
              "  <thead>\n",
              "    <tr style=\"text-align: right;\">\n",
              "      <th></th>\n",
              "      <th>RM</th>\n",
              "      <th>LSTAT</th>\n",
              "      <th>PTRATIO</th>\n",
              "      <th>MEDV</th>\n",
              "    </tr>\n",
              "  </thead>\n",
              "  <tbody>\n",
              "    <tr>\n",
              "      <th>count</th>\n",
              "      <td>489.000000</td>\n",
              "      <td>489.000000</td>\n",
              "      <td>489.000000</td>\n",
              "      <td>4.890000e+02</td>\n",
              "    </tr>\n",
              "    <tr>\n",
              "      <th>mean</th>\n",
              "      <td>6.240288</td>\n",
              "      <td>12.939632</td>\n",
              "      <td>18.516564</td>\n",
              "      <td>4.543429e+05</td>\n",
              "    </tr>\n",
              "    <tr>\n",
              "      <th>std</th>\n",
              "      <td>0.643650</td>\n",
              "      <td>7.081990</td>\n",
              "      <td>2.111268</td>\n",
              "      <td>1.653403e+05</td>\n",
              "    </tr>\n",
              "    <tr>\n",
              "      <th>min</th>\n",
              "      <td>3.561000</td>\n",
              "      <td>1.980000</td>\n",
              "      <td>12.600000</td>\n",
              "      <td>1.050000e+05</td>\n",
              "    </tr>\n",
              "    <tr>\n",
              "      <th>25%</th>\n",
              "      <td>5.880000</td>\n",
              "      <td>7.370000</td>\n",
              "      <td>17.400000</td>\n",
              "      <td>3.507000e+05</td>\n",
              "    </tr>\n",
              "    <tr>\n",
              "      <th>50%</th>\n",
              "      <td>6.185000</td>\n",
              "      <td>11.690000</td>\n",
              "      <td>19.100000</td>\n",
              "      <td>4.389000e+05</td>\n",
              "    </tr>\n",
              "    <tr>\n",
              "      <th>75%</th>\n",
              "      <td>6.575000</td>\n",
              "      <td>17.120000</td>\n",
              "      <td>20.200000</td>\n",
              "      <td>5.187000e+05</td>\n",
              "    </tr>\n",
              "    <tr>\n",
              "      <th>max</th>\n",
              "      <td>8.398000</td>\n",
              "      <td>37.970000</td>\n",
              "      <td>22.000000</td>\n",
              "      <td>1.024800e+06</td>\n",
              "    </tr>\n",
              "  </tbody>\n",
              "</table>\n",
              "</div>"
            ],
            "text/plain": [
              "               RM       LSTAT     PTRATIO          MEDV\n",
              "count  489.000000  489.000000  489.000000  4.890000e+02\n",
              "mean     6.240288   12.939632   18.516564  4.543429e+05\n",
              "std      0.643650    7.081990    2.111268  1.653403e+05\n",
              "min      3.561000    1.980000   12.600000  1.050000e+05\n",
              "25%      5.880000    7.370000   17.400000  3.507000e+05\n",
              "50%      6.185000   11.690000   19.100000  4.389000e+05\n",
              "75%      6.575000   17.120000   20.200000  5.187000e+05\n",
              "max      8.398000   37.970000   22.000000  1.024800e+06"
            ]
          },
          "metadata": {},
          "execution_count": 10
        }
      ]
    },
    {
      "cell_type": "code",
      "metadata": {
        "colab": {
          "base_uri": "https://localhost:8080/",
          "height": 623
        },
        "id": "ltEkhuRUgZ00",
        "outputId": "06c5e0b2-149c-4a4c-a1d7-712f429e705e"
      },
      "source": [
        "import matplotlib.pyplot as plt\n",
        "import seaborn as sns\n",
        "plt.figure(figsize=(16,10))\n",
        "plt.subplot(221)\n",
        "sns.histplot(df, x='RM')\n",
        "plt.subplot(222)\n",
        "sns.histplot(df, x='LSTAT')\n",
        "plt.subplot(223)\n",
        "sns.histplot(df, x='PTRATIO')\n",
        "plt.subplot(224)\n",
        "sns.histplot(df, x='MEDV')"
      ],
      "execution_count": null,
      "outputs": [
        {
          "output_type": "execute_result",
          "data": {
            "text/plain": [
              "<matplotlib.axes._subplots.AxesSubplot at 0x7f2fac3ca610>"
            ]
          },
          "metadata": {},
          "execution_count": 11
        },
        {
          "output_type": "display_data",
          "data": {
            "image/png": "[encoded data removed]",
            "text/plain": [
              "<Figure size 1152x720 with 4 Axes>"
            ]
          },
          "metadata": {
            "needs_background": "light"
          }
        }
      ]
    },
    {
      "cell_type": "markdown",
      "metadata": {
        "id": "RGFzFBZmmOT6"
      },
      "source": [
        "\n",
        "\n",
        "# **Step 1: Data Exploration (EDA)**\n",
        "\n",
        "Familiarizing yourself with the data through an explorative process is a fundamental practice to help you better understand and justify your results.\n",
        "\n",
        "As a reminder, we are using three features from the Boston housing dataset: 'RM', 'LSTAT', and 'PTRATIO'. For each data point (neighborhood):\n",
        "\n",
        "- '**RM**' is the **average number of rooms** among homes in the neighborhood.\n",
        "- '**LSTAT**' is the **percentage** of homeowners in the neighborhood considered \"**lower class**\" (working poor).\n",
        "- '**PTRATIO**' is the **ratio of students to teachers** in primary and secondary schools in the neighborhood.\n",
        "\n",
        "**Question**: For each of the three features above, do you think that an increase in the value of that feature would lead to an increase in the value of 'MEDV' or a decrease in the value of 'MEDV'? Justify your answer for each by plotting or calculating the correlation\n",
        "\n"
      ]
    },
    {
      "cell_type": "code",
      "metadata": {
        "colab": {
          "base_uri": "https://localhost:8080/",
          "height": 173
        },
        "id": "7RBR6XjnOJiN",
        "outputId": "e1c7f3ba-db21-456e-a3ba-14ef63ad7ef2"
      },
      "source": [
        "df.corr().style.background_gradient(cmap='PRGn')"
      ],
      "execution_count": null,
      "outputs": [
        {
          "output_type": "execute_result",
          "data": {
            "text/html": [
              "<style  type=\"text/css\" >\n",
              "#T_40a27126_3c74_11ec_8fb8_0242ac1c0002row0_col0,#T_40a27126_3c74_11ec_8fb8_0242ac1c0002row1_col1,#T_40a27126_3c74_11ec_8fb8_0242ac1c0002row2_col2,#T_40a27126_3c74_11ec_8fb8_0242ac1c0002row3_col3{\n",
              "            background-color:  #00441b;\n",
              "            color:  #f1f1f1;\n",
              "        }#T_40a27126_3c74_11ec_8fb8_0242ac1c0002row0_col1{\n",
              "            background-color:  #6c2379;\n",
              "            color:  #f1f1f1;\n",
              "        }#T_40a27126_3c74_11ec_8fb8_0242ac1c0002row0_col2{\n",
              "            background-color:  #844793;\n",
              "            color:  #f1f1f1;\n",
              "        }#T_40a27126_3c74_11ec_8fb8_0242ac1c0002row0_col3{\n",
              "            background-color:  #499f55;\n",
              "            color:  #000000;\n",
              "        }#T_40a27126_3c74_11ec_8fb8_0242ac1c0002row1_col0,#T_40a27126_3c74_11ec_8fb8_0242ac1c0002row1_col3,#T_40a27126_3c74_11ec_8fb8_0242ac1c0002row3_col1,#T_40a27126_3c74_11ec_8fb8_0242ac1c0002row3_col2{\n",
              "            background-color:  #40004b;\n",
              "            color:  #f1f1f1;\n",
              "        }#T_40a27126_3c74_11ec_8fb8_0242ac1c0002row1_col2{\n",
              "            background-color:  #dff1da;\n",
              "            color:  #000000;\n",
              "        }#T_40a27126_3c74_11ec_8fb8_0242ac1c0002row2_col0{\n",
              "            background-color:  #9568a6;\n",
              "            color:  #000000;\n",
              "        }#T_40a27126_3c74_11ec_8fb8_0242ac1c0002row2_col1{\n",
              "            background-color:  #c5e8bf;\n",
              "            color:  #000000;\n",
              "        }#T_40a27126_3c74_11ec_8fb8_0242ac1c0002row2_col3{\n",
              "            background-color:  #834492;\n",
              "            color:  #f1f1f1;\n",
              "        }#T_40a27126_3c74_11ec_8fb8_0242ac1c0002row3_col0{\n",
              "            background-color:  #53a85c;\n",
              "            color:  #000000;\n",
              "        }</style><table id=\"T_40a27126_3c74_11ec_8fb8_0242ac1c0002\" class=\"dataframe\"><thead>    <tr>        <th class=\"blank level0\" ></th>        <th class=\"col_heading level0 col0\" >RM</th>        <th class=\"col_heading level0 col1\" >LSTAT</th>        <th class=\"col_heading level0 col2\" >PTRATIO</th>        <th class=\"col_heading level0 col3\" >MEDV</th>    </tr></thead><tbody>\n",
              "                <tr>\n",
              "                        <th id=\"T_40a27126_3c74_11ec_8fb8_0242ac1c0002level0_row0\" class=\"row_heading level0 row0\" >RM</th>\n",
              "                        <td id=\"T_40a27126_3c74_11ec_8fb8_0242ac1c0002row0_col0\" class=\"data row0 col0\" >1.000000</td>\n",
              "                        <td id=\"T_40a27126_3c74_11ec_8fb8_0242ac1c0002row0_col1\" class=\"data row0 col1\" >-0.612033</td>\n",
              "                        <td id=\"T_40a27126_3c74_11ec_8fb8_0242ac1c0002row0_col2\" class=\"data row0 col2\" >-0.304559</td>\n",
              "                        <td id=\"T_40a27126_3c74_11ec_8fb8_0242ac1c0002row0_col3\" class=\"data row0 col3\" >0.697209</td>\n",
              "            </tr>\n",
              "            <tr>\n",
              "                        <th id=\"T_40a27126_3c74_11ec_8fb8_0242ac1c0002level0_row1\" class=\"row_heading level0 row1\" >LSTAT</th>\n",
              "                        <td id=\"T_40a27126_3c74_11ec_8fb8_0242ac1c0002row1_col0\" class=\"data row1 col0\" >-0.612033</td>\n",
              "                        <td id=\"T_40a27126_3c74_11ec_8fb8_0242ac1c0002row1_col1\" class=\"data row1 col1\" >1.000000</td>\n",
              "                        <td id=\"T_40a27126_3c74_11ec_8fb8_0242ac1c0002row1_col2\" class=\"data row1 col2\" >0.360445</td>\n",
              "                        <td id=\"T_40a27126_3c74_11ec_8fb8_0242ac1c0002row1_col3\" class=\"data row1 col3\" >-0.760670</td>\n",
              "            </tr>\n",
              "            <tr>\n",
              "                        <th id=\"T_40a27126_3c74_11ec_8fb8_0242ac1c0002level0_row2\" class=\"row_heading level0 row2\" >PTRATIO</th>\n",
              "                        <td id=\"T_40a27126_3c74_11ec_8fb8_0242ac1c0002row2_col0\" class=\"data row2 col0\" >-0.304559</td>\n",
              "                        <td id=\"T_40a27126_3c74_11ec_8fb8_0242ac1c0002row2_col1\" class=\"data row2 col1\" >0.360445</td>\n",
              "                        <td id=\"T_40a27126_3c74_11ec_8fb8_0242ac1c0002row2_col2\" class=\"data row2 col2\" >1.000000</td>\n",
              "                        <td id=\"T_40a27126_3c74_11ec_8fb8_0242ac1c0002row2_col3\" class=\"data row2 col3\" >-0.519034</td>\n",
              "            </tr>\n",
              "            <tr>\n",
              "                        <th id=\"T_40a27126_3c74_11ec_8fb8_0242ac1c0002level0_row3\" class=\"row_heading level0 row3\" >MEDV</th>\n",
              "                        <td id=\"T_40a27126_3c74_11ec_8fb8_0242ac1c0002row3_col0\" class=\"data row3 col0\" >0.697209</td>\n",
              "                        <td id=\"T_40a27126_3c74_11ec_8fb8_0242ac1c0002row3_col1\" class=\"data row3 col1\" >-0.760670</td>\n",
              "                        <td id=\"T_40a27126_3c74_11ec_8fb8_0242ac1c0002row3_col2\" class=\"data row3 col2\" >-0.519034</td>\n",
              "                        <td id=\"T_40a27126_3c74_11ec_8fb8_0242ac1c0002row3_col3\" class=\"data row3 col3\" >1.000000</td>\n",
              "            </tr>\n",
              "    </tbody></table>"
            ],
            "text/plain": [
              "<pandas.io.formats.style.Styler at 0x7f2fab0d1350>"
            ]
          },
          "metadata": {},
          "execution_count": 12
        }
      ]
    },
    {
      "cell_type": "markdown",
      "metadata": {
        "id": "wB9Nl1AoeAt-"
      },
      "source": [
        ""
      ]
    },
    {
      "cell_type": "markdown",
      "metadata": {
        "id": "yEi9eqNqm-RH"
      },
      "source": [
        "# **Step 2: Get to know our performance Metric**\n",
        "\n",
        "Do a quick read on Mean Absolute Error (MAE), because that is going to be the metric we are going to use for this task.\n",
        "\n",
        "https://scikit-learn.org/stable/modules/generated/sklearn.metrics.mean_absolute_error.html\n",
        "\n",
        "**Question**: Calculate MAE on these data points by using the Sklearn library\n",
        "```python\n",
        "y_true = [3, -0.5, 2, 7, 4.2]\n",
        "y_pred = [2.5, 0, 2.1, 7.8, 5.3]\n",
        "```\n",
        "If a model is making these prediction (y_pred), is this a good model?"
      ]
    },
    {
      "cell_type": "markdown",
      "metadata": {
        "id": "J8Nup8iV0kky"
      },
      "source": [
        "Chưa đủ để kết luận do data không đủ lớn"
      ]
    },
    {
      "cell_type": "code",
      "metadata": {
        "id": "ArkOOX2MnvoF"
      },
      "source": [
        "from sklearn.metrics import mean_absolute_error"
      ],
      "execution_count": null,
      "outputs": []
    },
    {
      "cell_type": "code",
      "metadata": {
        "id": "vRf64H-4fsZo"
      },
      "source": [
        "y_true = [3, -0.5, 2, 7, 4.2]\n",
        "y_pred = [2.5, 0, 2.1, 7.8, 5.3]"
      ],
      "execution_count": null,
      "outputs": []
    },
    {
      "cell_type": "code",
      "metadata": {
        "colab": {
          "base_uri": "https://localhost:8080/"
        },
        "id": "-o0s4bDje-7H",
        "outputId": "3f784bbd-0fc7-4270-cd16-5ea19ae4d33f"
      },
      "source": [
        "print(mean_absolute_error(y_true, y_pred))"
      ],
      "execution_count": null,
      "outputs": [
        {
          "output_type": "stream",
          "name": "stdout",
          "text": [
            "0.5999999999999999\n"
          ]
        }
      ]
    },
    {
      "cell_type": "markdown",
      "metadata": {
        "id": "X78OJElUnwfE"
      },
      "source": [
        "# **Step 3: Train our machine learning model**\n",
        "\n",
        "Your task is to build a pipeline to preprocess this data and train a linear regression model to predict the house price. Make sure to follow all the recommended practices we mention in the class. \n",
        "\n",
        "Here are 2 pipelines you should implement:\n",
        "- The **1st pipeline** include: MinMaxScaler (or Standard Scaler) as **Transformer** (to preprocess), and Linear Regression as **Estimator** (machine learning model)\n",
        "\n",
        "- The **2nd pipeline** include: Polynomial Feature, **then** Standard Scaler as **Transformers**, and Linear Regression as **Estimator**. Pay attention that you have 2 transformers in a very specific order.\n",
        "\n",
        "\n",
        "\n",
        "\n"
      ]
    },
    {
      "cell_type": "code",
      "metadata": {
        "id": "2BRCy8lhTqW-"
      },
      "source": [
        "# Import modules for feature engineering and modelling\n",
        "from sklearn.model_selection import train_test_split\n",
        "from sklearn.pipeline import Pipeline\n",
        "from sklearn.preprocessing import MinMaxScaler\n",
        "from sklearn.linear_model import LinearRegression"
      ],
      "execution_count": null,
      "outputs": []
    },
    {
      "cell_type": "code",
      "metadata": {
        "id": "tjMnpPnq3kCp"
      },
      "source": [
        "# Define your 1st pipeline here\n",
        "pipe1 = Pipeline([('scaler',MinMaxScaler())]) \n",
        "estimator1 = LinearRegression()\n",
        "final_pipe1 = Pipeline(steps=[\n",
        "                       ('preprocessor', pipe1),\n",
        "                       ('model',estimator1 )\n",
        "                       ])"
      ],
      "execution_count": null,
      "outputs": []
    },
    {
      "cell_type": "code",
      "metadata": {
        "id": "GxWRvSLd3mfc"
      },
      "source": [
        "# Define your 2nd pipeline here\n",
        "from sklearn.model_selection import KFold\n",
        "from sklearn.preprocessing import PolynomialFeatures\n",
        "from sklearn.model_selection import GridSearchCV\n",
        "\n",
        "pipe2 = Pipeline([\n",
        "                  ('poly',PolynomialFeatures(degree = 1, include_bias=False)),\n",
        "                  ('scaler',MinMaxScaler())]) \n",
        "estimator2 = LinearRegression()\n",
        "final_pipe2 = Pipeline(steps=[\n",
        "                       ('preprocessor', pipe2),\n",
        "                       ('model',estimator2 )\n",
        "                       ])\n",
        "\n"
      ],
      "execution_count": null,
      "outputs": []
    },
    {
      "cell_type": "markdown",
      "metadata": {
        "id": "NmZvaFnG2HA2"
      },
      "source": [
        "## 3.1 Use a simple train-test split\n",
        "\n",
        "*Do these following step for the first pipeline only*:\n",
        "\n",
        "- Use sklearn `train_test_split` to split data into train set and test set. Use random_state = 42\n",
        "- Fit the pipeline on train set\n",
        "- Use pipline to predict the test set\n",
        "- Calculate the MAE on test set"
      ]
    },
    {
      "cell_type": "code",
      "metadata": {
        "id": "5AufS9xkpbO1"
      },
      "source": [
        "x = df.iloc[:,:3]\n",
        "y = df['MEDV']\n",
        "x_train, x_test, y_train, y_test = train_test_split(x, \n",
        "                                                    y, \n",
        "                                                    test_size=.2, \n",
        "                                                    random_state=42)"
      ],
      "execution_count": null,
      "outputs": []
    },
    {
      "cell_type": "code",
      "metadata": {
        "id": "DmTwVFwLIIcX"
      },
      "source": [
        "# Fit the pipeline on train set\n",
        "final_pipe1.fit(x_train, y_train)\n",
        "\n",
        "# Predict training data\n",
        "y_train_pred1 = final_pipe1.predict(x_train)\n",
        "\n",
        "# Predict test data\n",
        "y_test_pred1 = final_pipe1.predict(x_test)\n"
      ],
      "execution_count": null,
      "outputs": []
    },
    {
      "cell_type": "code",
      "metadata": {
        "colab": {
          "base_uri": "https://localhost:8080/"
        },
        "id": "IEyAHa2BKGul",
        "outputId": "76caa77a-5310-4d56-bd87-8e4664eb4f3e"
      },
      "source": [
        "from sklearn.metrics import mean_absolute_error\n",
        "# MAE on train set\n",
        "print(mean_absolute_error(y_train,y_train_pred1))\n",
        "\n",
        "# MAE on test set\n",
        "print(mean_absolute_error(y_test,y_test_pred1))"
      ],
      "execution_count": null,
      "outputs": [
        {
          "output_type": "stream",
          "name": "stdout",
          "text": [
            "66173.47210488864\n",
            "64277.288656703386\n"
          ]
        }
      ]
    },
    {
      "cell_type": "markdown",
      "metadata": {
        "id": "cgC6Fpme3t0d"
      },
      "source": [
        "## 3.2a: Use 5 fold cross-validation *without* polynomial features\n",
        "\n",
        "*Do these following steps for first pipeline*\n",
        "\n",
        "You don't do a simple train-test split. Instead, you will **do train-test split 5 times** and then calculate the mean of the MAE score for these 5 test set.\n",
        "\n",
        "Take a look at K-fold cross validation section in the sklearn tutorial or  [documentation](https://scikit-learn.org/stable/modules/generated/sklearn.model_selection.cross_val_score.html) and write a code to **calculate the mean of MAE of these 5-fold cross validation results**\n",
        "\n",
        "\n",
        "\n",
        "*Hint*: You need to read the documentation to know exactly what will be returned when you use `cross_val_score(your_pipeline, X,y, scoring=\"neg_mean_absolute_error\")`. And note that the only scoring that similar to MAE in `cross_val_score` is `neg_mean_absolute_error`, which means the result will be negative MAE. All you need to do is *multiply the result by -1* to turn them into positive MAE."
      ]
    },
    {
      "cell_type": "code",
      "metadata": {
        "id": "AdzAMov0O7N3"
      },
      "source": [
        "kfold_shuffle = KFold(n_splits = 5,shuffle=True,random_state=42)\n"
      ],
      "execution_count": null,
      "outputs": []
    },
    {
      "cell_type": "code",
      "metadata": {
        "colab": {
          "base_uri": "https://localhost:8080/"
        },
        "id": "w62cGX0L3GlT",
        "outputId": "855e4142-73d2-4f6a-cf68-5cd2870e88e8"
      },
      "source": [
        "from sklearn.model_selection import cross_val_score\n",
        "cross_val_score(final_pipe1, x_train, y_train,cv=kfold_shuffle, scoring=\"neg_mean_absolute_error\")*-1"
      ],
      "execution_count": null,
      "outputs": [
        {
          "output_type": "execute_result",
          "data": {
            "text/plain": [
              "array([73326.55575081, 73172.1230785 , 74196.63517307, 53185.24501428,\n",
              "       60387.0105117 ])"
            ]
          },
          "metadata": {},
          "execution_count": 24
        }
      ]
    },
    {
      "cell_type": "code",
      "metadata": {
        "colab": {
          "base_uri": "https://localhost:8080/"
        },
        "id": "uc6ja2qkQafm",
        "outputId": "3287f08d-2801-471e-806f-d887d6e11382"
      },
      "source": [
        "final_pipe2.get_params().keys()"
      ],
      "execution_count": null,
      "outputs": [
        {
          "output_type": "execute_result",
          "data": {
            "text/plain": [
              "dict_keys(['memory', 'steps', 'verbose', 'preprocessor', 'model', 'preprocessor__memory', 'preprocessor__steps', 'preprocessor__verbose', 'preprocessor__poly', 'preprocessor__scaler', 'preprocessor__poly__degree', 'preprocessor__poly__include_bias', 'preprocessor__poly__interaction_only', 'preprocessor__poly__order', 'preprocessor__scaler__copy', 'preprocessor__scaler__feature_range', 'model__copy_X', 'model__fit_intercept', 'model__n_jobs', 'model__normalize'])"
            ]
          },
          "metadata": {},
          "execution_count": 25
        }
      ]
    },
    {
      "cell_type": "code",
      "metadata": {
        "id": "T2fAhckg75HV"
      },
      "source": [
        "param_grid = {'preprocessor__poly__degree': [1,2,3,4,5,6,7,8,9,10]}\n"
      ],
      "execution_count": null,
      "outputs": []
    },
    {
      "cell_type": "code",
      "metadata": {
        "id": "iSLg0gdF765x"
      },
      "source": [
        "GSC = GridSearchCV(final_pipe2,\n",
        "                   param_grid=param_grid,\n",
        "                   scoring='neg_mean_absolute_error',\n",
        "                   cv=kfold_shuffle,\n",
        "                   n_jobs=-1,\n",
        "                   verbose=True)"
      ],
      "execution_count": null,
      "outputs": []
    },
    {
      "cell_type": "markdown",
      "metadata": {
        "id": "WKntpuyt77c7"
      },
      "source": [
        "## 3.2b: Use 5 fold cross-validation *with* polynomial features"
      ]
    },
    {
      "cell_type": "markdown",
      "metadata": {
        "id": "SWWQRvHt7_ZX"
      },
      "source": [
        "*Do these following steps for first pipeline*\n",
        "\n",
        "Repeat everything in **Part 2** on the second pipeline (The one with Polynomial Feature as one of the transformer). For this one, write a `for` loop to **test out different degrees** for Polynomial Feature. Here is roughly what your code should look like\n",
        "```\n",
        "for each value n in a range of your choice:\n",
        "    - create a pipeline including Polynomial Feature(degree=n) => MinMaxScaler => Linear Regression\n",
        "    - call cross_val_score on this pipeline\n",
        "    - calculate mean of MAE scores from cross validation\n",
        "```\n",
        "\n"
      ]
    },
    {
      "cell_type": "code",
      "metadata": {
        "id": "CxwX9opy7o4p",
        "colab": {
          "base_uri": "https://localhost:8080/"
        },
        "outputId": "f488444a-9ba2-48d1-a246-421c17f1df08"
      },
      "source": [
        "# YOUR CODE HERE\n",
        "degree = [1,2,3,4,5,6,7,8,9,10]\n",
        "for i in degree:\n",
        "  pipe2 = Pipeline([\n",
        "                  ('poly',PolynomialFeatures(degree = i, include_bias=False)),\n",
        "                  ('scaler',MinMaxScaler())]) \n",
        "  estimator2 = LinearRegression()\n",
        "  final_pipe2 = Pipeline(steps=[\n",
        "                       ('preprocessor', pipe2),\n",
        "                       ('model',estimator2 )\n",
        "                       ])\n",
        "  score = cross_val_score(final_pipe2, x_train, y_train,cv=kfold_shuffle, scoring=\"neg_mean_absolute_error\")*-1\n",
        "  print(f'cross value score of degree {i}: {score}')\n",
        "  score_mean = score.mean()\n",
        "  print(f'Mean of MAE degree {i}: {score_mean}')\n",
        "  # X_train_poly = pipe2.fit_transform(x_train)\n",
        "  # X_test_poly = pipe2.transform(x_test)\n",
        "  # estimator2.fit(X_train_poly, y_train)\n",
        "  # y_train_predict = estimator2.predict(X_train_poly)\n",
        "  # print(f'MSE on train set with degree = {i}:  {mean_absolute_error(y_train, y_train_predict)}')\n",
        "  # y_test_predict = estimator2.predict(X_test_poly)\n",
        "  # print(f'MSE on validation set with degree = {i}: {mean_absolute_error(y_test, y_test_predict)}')"
      ],
      "execution_count": null,
      "outputs": [
        {
          "output_type": "stream",
          "name": "stdout",
          "text": [
            "cross value score of degree 1: [73326.55575081 73172.1230785  74196.63517307 53185.24501428\n",
            " 60387.0105117 ]\n",
            "Mean of MAE degree 1: 66853.51390567118\n",
            "cross value score of degree 2: [60604.69354457 53310.4686639  53556.40349191 47719.47307889\n",
            " 51661.0629574 ]\n",
            "Mean of MAE degree 2: 53370.42034733533\n",
            "cross value score of degree 3: [61240.76353692 51339.12906    52401.15302157 47702.01517346\n",
            " 50823.47421262]\n",
            "Mean of MAE degree 3: 52701.30700091325\n",
            "cross value score of degree 4: [60878.95919362 55867.50314746 49491.5197118  42309.2953763\n",
            " 57874.0633819 ]\n",
            "Mean of MAE degree 4: 53284.26816221579\n",
            "cross value score of degree 5: [79478.41071466 58554.50311351 53757.55024054 55651.56696645\n",
            " 58883.04483161]\n",
            "Mean of MAE degree 5: 61265.0151733538\n",
            "cross value score of degree 6: [178691.07807889 118636.35495968  78223.62824983  49494.02091383\n",
            " 110500.62207202]\n",
            "Mean of MAE degree 6: 107109.14085485107\n",
            "cross value score of degree 7: [1203909.18196666  230964.63267478  252294.30019281  186370.7846977\n",
            "  378579.85092711]\n",
            "Mean of MAE degree 7: 450423.7500918123\n",
            "cross value score of degree 8: [23050467.76634197   778360.90785256  2180299.74158654  2842869.77731871\n",
            "  1823494.95372596]\n",
            "Mean of MAE degree 8: 6135098.629365148\n",
            "cross value score of degree 9: [2.45005368e+08 5.08330727e+07 3.52162349e+07 3.37354820e+07\n",
            " 3.25849402e+07]\n",
            "Mean of MAE degree 9: 79475019.5898653\n",
            "cross value score of degree 10: [3.23984711e+09 4.12922001e+08 4.08062722e+08 2.79477437e+08\n",
            " 1.67754377e+09]\n",
            "Mean of MAE degree 10: 1203570609.2855973\n"
          ]
        }
      ]
    },
    {
      "cell_type": "markdown",
      "metadata": {
        "id": "sXY2T0JLhy7g"
      },
      "source": [
        "## 3.3c: Use GridSearchCV to find the best option"
      ]
    },
    {
      "cell_type": "markdown",
      "metadata": {
        "id": "nO4Zr1IwCqFA"
      },
      "source": [
        "Now, let's upgrade the code using GridSearchCV. Please refer to the Sklearn tutorial and [documentation](https://scikit-learn.org/stable/modules/generated/sklearn.model_selection.GridSearchCV.html) for details\n"
      ]
    },
    {
      "cell_type": "code",
      "metadata": {
        "colab": {
          "base_uri": "https://localhost:8080/"
        },
        "id": "xwp2gVDG62C4",
        "outputId": "ba8f6d1b-462b-4216-fc41-1103c3731282"
      },
      "source": [
        "final_pipe2.get_params().keys()"
      ],
      "execution_count": null,
      "outputs": [
        {
          "output_type": "execute_result",
          "data": {
            "text/plain": [
              "dict_keys(['memory', 'steps', 'verbose', 'preprocessor', 'model', 'preprocessor__memory', 'preprocessor__steps', 'preprocessor__verbose', 'preprocessor__poly', 'preprocessor__scaler', 'preprocessor__poly__degree', 'preprocessor__poly__include_bias', 'preprocessor__poly__interaction_only', 'preprocessor__poly__order', 'preprocessor__scaler__copy', 'preprocessor__scaler__feature_range', 'model__copy_X', 'model__fit_intercept', 'model__n_jobs', 'model__normalize'])"
            ]
          },
          "metadata": {},
          "execution_count": 29
        }
      ]
    },
    {
      "cell_type": "code",
      "metadata": {
        "id": "bQqWqAba62DB"
      },
      "source": [
        "param_grid = {'preprocessor__poly__degree': [1,2,3,4,5,6,7,8,9,10]}\n"
      ],
      "execution_count": null,
      "outputs": []
    },
    {
      "cell_type": "code",
      "metadata": {
        "id": "o_qZbGvL62DB"
      },
      "source": [
        "GSC = GridSearchCV(final_pipe2,\n",
        "                   param_grid=param_grid,\n",
        "                   scoring='neg_mean_absolute_error',\n",
        "                   cv=kfold_shuffle,\n",
        "                   n_jobs=-1,\n",
        "                   verbose=True)"
      ],
      "execution_count": null,
      "outputs": []
    },
    {
      "cell_type": "code",
      "metadata": {
        "id": "gDr0bVA_iq9W",
        "colab": {
          "base_uri": "https://localhost:8080/",
          "height": 600
        },
        "outputId": "1c25cfcc-2962-4c53-c083-9e58a4dd6280"
      },
      "source": [
        "GSC.fit(x_train,y_train)\n",
        "GSC.cv_results_\n",
        "finaldata = pd.DataFrame(GSC.cv_results_)\n",
        "finaldata"
      ],
      "execution_count": null,
      "outputs": [
        {
          "output_type": "stream",
          "name": "stdout",
          "text": [
            "Fitting 5 folds for each of 10 candidates, totalling 50 fits\n"
          ]
        },
        {
          "output_type": "stream",
          "name": "stderr",
          "text": [
            "[Parallel(n_jobs=-1)]: Using backend LokyBackend with 2 concurrent workers.\n",
            "[Parallel(n_jobs=-1)]: Done  50 out of  50 | elapsed:    1.7s finished\n"
          ]
        },
        {
          "output_type": "execute_result",
          "data": {
            "text/html": [
              "<div>\n",
              "<style scoped>\n",
              "    .dataframe tbody tr th:only-of-type {\n",
              "        vertical-align: middle;\n",
              "    }\n",
              "\n",
              "    .dataframe tbody tr th {\n",
              "        vertical-align: top;\n",
              "    }\n",
              "\n",
              "    .dataframe thead th {\n",
              "        text-align: right;\n",
              "    }\n",
              "</style>\n",
              "<table border=\"1\" class=\"dataframe\">\n",
              "  <thead>\n",
              "    <tr style=\"text-align: right;\">\n",
              "      <th></th>\n",
              "      <th>mean_fit_time</th>\n",
              "      <th>std_fit_time</th>\n",
              "      <th>mean_score_time</th>\n",
              "      <th>std_score_time</th>\n",
              "      <th>param_preprocessor__poly__degree</th>\n",
              "      <th>params</th>\n",
              "      <th>split0_test_score</th>\n",
              "      <th>split1_test_score</th>\n",
              "      <th>split2_test_score</th>\n",
              "      <th>split3_test_score</th>\n",
              "      <th>split4_test_score</th>\n",
              "      <th>mean_test_score</th>\n",
              "      <th>std_test_score</th>\n",
              "      <th>rank_test_score</th>\n",
              "    </tr>\n",
              "  </thead>\n",
              "  <tbody>\n",
              "    <tr>\n",
              "      <th>0</th>\n",
              "      <td>0.005080</td>\n",
              "      <td>0.001421</td>\n",
              "      <td>0.002244</td>\n",
              "      <td>0.001393</td>\n",
              "      <td>1</td>\n",
              "      <td>{'preprocessor__poly__degree': 1}</td>\n",
              "      <td>-7.332656e+04</td>\n",
              "      <td>-7.317212e+04</td>\n",
              "      <td>-7.419664e+04</td>\n",
              "      <td>-5.318525e+04</td>\n",
              "      <td>-6.038701e+04</td>\n",
              "      <td>-6.685351e+04</td>\n",
              "      <td>8.536788e+03</td>\n",
              "      <td>5</td>\n",
              "    </tr>\n",
              "    <tr>\n",
              "      <th>1</th>\n",
              "      <td>0.006362</td>\n",
              "      <td>0.001616</td>\n",
              "      <td>0.001636</td>\n",
              "      <td>0.000127</td>\n",
              "      <td>2</td>\n",
              "      <td>{'preprocessor__poly__degree': 2}</td>\n",
              "      <td>-6.060469e+04</td>\n",
              "      <td>-5.331047e+04</td>\n",
              "      <td>-5.355640e+04</td>\n",
              "      <td>-4.771947e+04</td>\n",
              "      <td>-5.166106e+04</td>\n",
              "      <td>-5.337042e+04</td>\n",
              "      <td>4.176793e+03</td>\n",
              "      <td>3</td>\n",
              "    </tr>\n",
              "    <tr>\n",
              "      <th>2</th>\n",
              "      <td>0.007712</td>\n",
              "      <td>0.003061</td>\n",
              "      <td>0.002672</td>\n",
              "      <td>0.001828</td>\n",
              "      <td>3</td>\n",
              "      <td>{'preprocessor__poly__degree': 3}</td>\n",
              "      <td>-6.124076e+04</td>\n",
              "      <td>-5.133913e+04</td>\n",
              "      <td>-5.240115e+04</td>\n",
              "      <td>-4.770202e+04</td>\n",
              "      <td>-5.082347e+04</td>\n",
              "      <td>-5.270131e+04</td>\n",
              "      <td>4.547243e+03</td>\n",
              "      <td>1</td>\n",
              "    </tr>\n",
              "    <tr>\n",
              "      <th>3</th>\n",
              "      <td>0.007058</td>\n",
              "      <td>0.002882</td>\n",
              "      <td>0.003553</td>\n",
              "      <td>0.002700</td>\n",
              "      <td>4</td>\n",
              "      <td>{'preprocessor__poly__degree': 4}</td>\n",
              "      <td>-6.087896e+04</td>\n",
              "      <td>-5.586750e+04</td>\n",
              "      <td>-4.949152e+04</td>\n",
              "      <td>-4.230930e+04</td>\n",
              "      <td>-5.787406e+04</td>\n",
              "      <td>-5.328427e+04</td>\n",
              "      <td>6.637072e+03</td>\n",
              "      <td>2</td>\n",
              "    </tr>\n",
              "    <tr>\n",
              "      <th>4</th>\n",
              "      <td>0.010134</td>\n",
              "      <td>0.003546</td>\n",
              "      <td>0.001980</td>\n",
              "      <td>0.000143</td>\n",
              "      <td>5</td>\n",
              "      <td>{'preprocessor__poly__degree': 5}</td>\n",
              "      <td>-7.947841e+04</td>\n",
              "      <td>-5.855450e+04</td>\n",
              "      <td>-5.375755e+04</td>\n",
              "      <td>-5.565157e+04</td>\n",
              "      <td>-5.888304e+04</td>\n",
              "      <td>-6.126502e+04</td>\n",
              "      <td>9.301841e+03</td>\n",
              "      <td>4</td>\n",
              "    </tr>\n",
              "    <tr>\n",
              "      <th>5</th>\n",
              "      <td>0.009630</td>\n",
              "      <td>0.001163</td>\n",
              "      <td>0.002035</td>\n",
              "      <td>0.000153</td>\n",
              "      <td>6</td>\n",
              "      <td>{'preprocessor__poly__degree': 6}</td>\n",
              "      <td>-1.786911e+05</td>\n",
              "      <td>-1.186364e+05</td>\n",
              "      <td>-7.822363e+04</td>\n",
              "      <td>-4.949402e+04</td>\n",
              "      <td>-1.105006e+05</td>\n",
              "      <td>-1.071091e+05</td>\n",
              "      <td>4.341020e+04</td>\n",
              "      <td>6</td>\n",
              "    </tr>\n",
              "    <tr>\n",
              "      <th>6</th>\n",
              "      <td>0.015463</td>\n",
              "      <td>0.007241</td>\n",
              "      <td>0.002153</td>\n",
              "      <td>0.000193</td>\n",
              "      <td>7</td>\n",
              "      <td>{'preprocessor__poly__degree': 7}</td>\n",
              "      <td>-1.203909e+06</td>\n",
              "      <td>-2.309646e+05</td>\n",
              "      <td>-2.522943e+05</td>\n",
              "      <td>-1.863708e+05</td>\n",
              "      <td>-3.785799e+05</td>\n",
              "      <td>-4.504238e+05</td>\n",
              "      <td>3.821108e+05</td>\n",
              "      <td>7</td>\n",
              "    </tr>\n",
              "    <tr>\n",
              "      <th>7</th>\n",
              "      <td>0.016052</td>\n",
              "      <td>0.000258</td>\n",
              "      <td>0.002447</td>\n",
              "      <td>0.000184</td>\n",
              "      <td>8</td>\n",
              "      <td>{'preprocessor__poly__degree': 8}</td>\n",
              "      <td>-2.305029e+07</td>\n",
              "      <td>-7.783465e+05</td>\n",
              "      <td>-2.180288e+06</td>\n",
              "      <td>-2.842835e+06</td>\n",
              "      <td>-1.823482e+06</td>\n",
              "      <td>-6.135048e+06</td>\n",
              "      <td>8.483962e+06</td>\n",
              "      <td>8</td>\n",
              "    </tr>\n",
              "    <tr>\n",
              "      <th>8</th>\n",
              "      <td>0.022990</td>\n",
              "      <td>0.002354</td>\n",
              "      <td>0.002687</td>\n",
              "      <td>0.000210</td>\n",
              "      <td>9</td>\n",
              "      <td>{'preprocessor__poly__degree': 9}</td>\n",
              "      <td>-2.472268e+08</td>\n",
              "      <td>-5.082031e+07</td>\n",
              "      <td>-3.520848e+07</td>\n",
              "      <td>-3.371791e+07</td>\n",
              "      <td>-3.267225e+07</td>\n",
              "      <td>-7.992914e+07</td>\n",
              "      <td>8.391001e+07</td>\n",
              "      <td>9</td>\n",
              "    </tr>\n",
              "    <tr>\n",
              "      <th>9</th>\n",
              "      <td>0.028759</td>\n",
              "      <td>0.005100</td>\n",
              "      <td>0.003042</td>\n",
              "      <td>0.000498</td>\n",
              "      <td>10</td>\n",
              "      <td>{'preprocessor__poly__degree': 10}</td>\n",
              "      <td>-3.273223e+09</td>\n",
              "      <td>-4.877480e+08</td>\n",
              "      <td>-4.577175e+08</td>\n",
              "      <td>-2.858446e+08</td>\n",
              "      <td>-1.530588e+09</td>\n",
              "      <td>-1.207024e+09</td>\n",
              "      <td>1.122609e+09</td>\n",
              "      <td>10</td>\n",
              "    </tr>\n",
              "  </tbody>\n",
              "</table>\n",
              "</div>"
            ],
            "text/plain": [
              "   mean_fit_time  std_fit_time  ...  std_test_score  rank_test_score\n",
              "0       0.005080      0.001421  ...    8.536788e+03                5\n",
              "1       0.006362      0.001616  ...    4.176793e+03                3\n",
              "2       0.007712      0.003061  ...    4.547243e+03                1\n",
              "3       0.007058      0.002882  ...    6.637072e+03                2\n",
              "4       0.010134      0.003546  ...    9.301841e+03                4\n",
              "5       0.009630      0.001163  ...    4.341020e+04                6\n",
              "6       0.015463      0.007241  ...    3.821108e+05                7\n",
              "7       0.016052      0.000258  ...    8.483962e+06                8\n",
              "8       0.022990      0.002354  ...    8.391001e+07                9\n",
              "9       0.028759      0.005100  ...    1.122609e+09               10\n",
              "\n",
              "[10 rows x 14 columns]"
            ]
          },
          "metadata": {},
          "execution_count": 32
        }
      ]
    },
    {
      "cell_type": "code",
      "metadata": {
        "id": "RPSKCl5HSRgN",
        "colab": {
          "base_uri": "https://localhost:8080/"
        },
        "outputId": "94d2b3c5-8a70-41c4-d0b3-f98837f6b518"
      },
      "source": [
        "#Get back the best_estimator\n",
        "best_estimator = GSC.best_estimator_\n",
        "best_estimator"
      ],
      "execution_count": null,
      "outputs": [
        {
          "output_type": "execute_result",
          "data": {
            "text/plain": [
              "Pipeline(memory=None,\n",
              "         steps=[('preprocessor',\n",
              "                 Pipeline(memory=None,\n",
              "                          steps=[('poly',\n",
              "                                  PolynomialFeatures(degree=3,\n",
              "                                                     include_bias=False,\n",
              "                                                     interaction_only=False,\n",
              "                                                     order='C')),\n",
              "                                 ('scaler',\n",
              "                                  MinMaxScaler(copy=True,\n",
              "                                               feature_range=(0, 1)))],\n",
              "                          verbose=False)),\n",
              "                ('model',\n",
              "                 LinearRegression(copy_X=True, fit_intercept=True, n_jobs=None,\n",
              "                                  normalize=False))],\n",
              "         verbose=False)"
            ]
          },
          "metadata": {},
          "execution_count": 33
        }
      ]
    },
    {
      "cell_type": "code",
      "metadata": {
        "id": "BQ0FvxIrSXHu"
      },
      "source": [
        "best_estimator.fit(x_train,y_train)\n",
        "# Predict training data\n",
        "y_train_pred2 = best_estimator.predict(x_train)\n",
        "\n",
        "# Predict test data\n",
        "y_test_pred2 = best_estimator.predict(x_test)"
      ],
      "execution_count": null,
      "outputs": []
    },
    {
      "cell_type": "code",
      "metadata": {
        "colab": {
          "base_uri": "https://localhost:8080/"
        },
        "id": "XSjgpQWqSvpO",
        "outputId": "3960bd2d-ce11-4319-80d8-37cf896b6033"
      },
      "source": [
        "# MAE on train set\n",
        "print(mean_absolute_error(y_train,y_train_pred2))\n",
        "\n",
        "# MAE on test set\n",
        "print(mean_absolute_error(y_test,y_test_pred2))"
      ],
      "execution_count": null,
      "outputs": [
        {
          "output_type": "stream",
          "name": "stdout",
          "text": [
            "49728.14156255551\n",
            "48324.77705979921\n"
          ]
        }
      ]
    },
    {
      "cell_type": "markdown",
      "metadata": {
        "id": "mrwhDUznpbzB"
      },
      "source": [
        "# **Step 4: Report your MAE**\n",
        "\n",
        "From your results above, which pipeline configuration ends up with the lowest mean MAE from cross validation? And what is that MAE?"
      ]
    },
    {
      "cell_type": "markdown",
      "metadata": {
        "id": "0PwrNkxqr9TJ"
      },
      "source": [
        "Pipeline với Polynomial Feature, degree = 3 cho ra mean MAE thấp nhất. MAE trên tập test là 48324.78 "
      ]
    },
    {
      "cell_type": "markdown",
      "metadata": {
        "id": "pvNfEbcYqtAU"
      },
      "source": [
        "# **Step 5: Make predictions**"
      ]
    },
    {
      "cell_type": "markdown",
      "metadata": {
        "id": "vwDl5_7qqurr"
      },
      "source": [
        "Imagine that you were a real estate agent in the Boston area looking to use this model to help price homes owned by your clients that they wish to sell. You have collected the following information from three of your clients:\n",
        "\n",
        "|Feature\t|Client 1\t|Client 2\t|Client 3|\n",
        "|-----------|-----------|-----------|--------|\n",
        "|Total number of rooms in home\t|5 rooms\t|4 rooms\t|8 rooms|\n",
        "|Neighborhood poverty level (as %)\t|17%\t|32%\t|3%|\n",
        "|Student-teacher ratio of nearby schools\t|15-to-1\t|22-to-1\t|12-to-1|\n",
        "\n",
        "Based on your model, what price would you recommend each client sell his/her home at?\n"
      ]
    },
    {
      "cell_type": "markdown",
      "metadata": {
        "id": "TzTxuKu2-c0C"
      },
      "source": [
        "Note that at this point, you haven't had a trained model to make the prediction on this data. So we will create a pipeline and train it.\n",
        "\n",
        "To do this question, you need to\n",
        "- Redefine the best pipeline that you report in step 4\n",
        "- **Fit** this pipeline on the entire dataset given at the beginning (we don't need to do train/test split here as we already know this is our best pipeline)\n",
        "- Manually create a new test data including 3 clients from the table above\n",
        "- Use the pipeline you have fitted to **predict** this new test data\n",
        "- Save the prediction to a variable called `client_preds`"
      ]
    },
    {
      "cell_type": "code",
      "metadata": {
        "id": "qUn1nxEq_eMu",
        "colab": {
          "base_uri": "https://localhost:8080/",
          "height": 142
        },
        "outputId": "5bc38fce-01a5-42db-9bd9-195e0681755d"
      },
      "source": [
        "house = pd.DataFrame({'Client':[1,2,3],'RM':[5, 4, 8], 'LSTAT': [17, 32, 3], 'PTRATIO': [15,22,12]})\n",
        "house"
      ],
      "execution_count": null,
      "outputs": [
        {
          "output_type": "execute_result",
          "data": {
            "text/html": [
              "<div>\n",
              "<style scoped>\n",
              "    .dataframe tbody tr th:only-of-type {\n",
              "        vertical-align: middle;\n",
              "    }\n",
              "\n",
              "    .dataframe tbody tr th {\n",
              "        vertical-align: top;\n",
              "    }\n",
              "\n",
              "    .dataframe thead th {\n",
              "        text-align: right;\n",
              "    }\n",
              "</style>\n",
              "<table border=\"1\" class=\"dataframe\">\n",
              "  <thead>\n",
              "    <tr style=\"text-align: right;\">\n",
              "      <th></th>\n",
              "      <th>Client</th>\n",
              "      <th>RM</th>\n",
              "      <th>LSTAT</th>\n",
              "      <th>PTRATIO</th>\n",
              "    </tr>\n",
              "  </thead>\n",
              "  <tbody>\n",
              "    <tr>\n",
              "      <th>0</th>\n",
              "      <td>1</td>\n",
              "      <td>5</td>\n",
              "      <td>17</td>\n",
              "      <td>15</td>\n",
              "    </tr>\n",
              "    <tr>\n",
              "      <th>1</th>\n",
              "      <td>2</td>\n",
              "      <td>4</td>\n",
              "      <td>32</td>\n",
              "      <td>22</td>\n",
              "    </tr>\n",
              "    <tr>\n",
              "      <th>2</th>\n",
              "      <td>3</td>\n",
              "      <td>8</td>\n",
              "      <td>3</td>\n",
              "      <td>12</td>\n",
              "    </tr>\n",
              "  </tbody>\n",
              "</table>\n",
              "</div>"
            ],
            "text/plain": [
              "   Client  RM  LSTAT  PTRATIO\n",
              "0       1   5     17       15\n",
              "1       2   4     32       22\n",
              "2       3   8      3       12"
            ]
          },
          "metadata": {},
          "execution_count": 36
        }
      ]
    },
    {
      "cell_type": "code",
      "metadata": {
        "colab": {
          "base_uri": "https://localhost:8080/",
          "height": 142
        },
        "id": "_KmPRFQ8lp0X",
        "outputId": "919d51dc-c80a-4ca7-dbad-30a5c5263ea4"
      },
      "source": [
        "x_house = house.iloc[:,1:]\n",
        "x_house"
      ],
      "execution_count": null,
      "outputs": [
        {
          "output_type": "execute_result",
          "data": {
            "text/html": [
              "<div>\n",
              "<style scoped>\n",
              "    .dataframe tbody tr th:only-of-type {\n",
              "        vertical-align: middle;\n",
              "    }\n",
              "\n",
              "    .dataframe tbody tr th {\n",
              "        vertical-align: top;\n",
              "    }\n",
              "\n",
              "    .dataframe thead th {\n",
              "        text-align: right;\n",
              "    }\n",
              "</style>\n",
              "<table border=\"1\" class=\"dataframe\">\n",
              "  <thead>\n",
              "    <tr style=\"text-align: right;\">\n",
              "      <th></th>\n",
              "      <th>RM</th>\n",
              "      <th>LSTAT</th>\n",
              "      <th>PTRATIO</th>\n",
              "    </tr>\n",
              "  </thead>\n",
              "  <tbody>\n",
              "    <tr>\n",
              "      <th>0</th>\n",
              "      <td>5</td>\n",
              "      <td>17</td>\n",
              "      <td>15</td>\n",
              "    </tr>\n",
              "    <tr>\n",
              "      <th>1</th>\n",
              "      <td>4</td>\n",
              "      <td>32</td>\n",
              "      <td>22</td>\n",
              "    </tr>\n",
              "    <tr>\n",
              "      <th>2</th>\n",
              "      <td>8</td>\n",
              "      <td>3</td>\n",
              "      <td>12</td>\n",
              "    </tr>\n",
              "  </tbody>\n",
              "</table>\n",
              "</div>"
            ],
            "text/plain": [
              "   RM  LSTAT  PTRATIO\n",
              "0   5     17       15\n",
              "1   4     32       22\n",
              "2   8      3       12"
            ]
          },
          "metadata": {},
          "execution_count": 37
        }
      ]
    },
    {
      "cell_type": "code",
      "metadata": {
        "id": "3ynugtVJAHWX",
        "colab": {
          "base_uri": "https://localhost:8080/"
        },
        "outputId": "668b8349-4214-4225-da53-c12bb1f5aa85"
      },
      "source": [
        "pipe2 = Pipeline([\n",
        "                  ('poly',PolynomialFeatures(degree = 3, include_bias=False)),\n",
        "                  ('scaler',MinMaxScaler())]) \n",
        "estimator2 = LinearRegression()\n",
        "final_pipe2 = Pipeline(steps=[\n",
        "                       ('preprocessor', pipe2),\n",
        "                       ('model',estimator2 )\n",
        "                       ])\n",
        "X_train_poly = pipe2.fit_transform(x_train)\n",
        "x_house_poly = pipe2.transform(x_house)\n",
        "estimator2.fit(X_train_poly, y_train)\n",
        "y_house_predict = estimator2.predict(x_house_poly)\n",
        "print(f'predict house: {y_house_predict}')"
      ],
      "execution_count": null,
      "outputs": [
        {
          "output_type": "stream",
          "name": "stdout",
          "text": [
            "predict house: [ 336512.86711234  158921.77717016 1073860.92303722]\n"
          ]
        }
      ]
    },
    {
      "cell_type": "code",
      "metadata": {
        "id": "pJyDGY9ypmGf"
      },
      "source": [
        "client_preds = y_house_predict"
      ],
      "execution_count": null,
      "outputs": []
    },
    {
      "cell_type": "markdown",
      "metadata": {
        "id": "c91GcJAK_g1W"
      },
      "source": [
        "After you have your variable `client_preds`, run this code to visualize your predictions against the home prices (MEDV)\n",
        "\n",
        "```python\n",
        "import matplotlib.pyplot as plt\n",
        "for i,price in enumerate(client_preds):\n",
        "    plt.hist(y, bins = 30,color='r',ec='black')\n",
        "    plt.axvline(price, lw = 3)\n",
        "    plt.text(price-50000, 40, 'Client '+str(i+1), rotation=90)\n",
        "```\n",
        "\n",
        "Note that \n",
        "- `client_preds` should be a vector of size 3 (since we only have 3 records in the new test set) \n",
        "- `y` should be the column MEDV in the dataset you use to train"
      ]
    },
    {
      "cell_type": "code",
      "metadata": {
        "id": "LwoWyxr4BEcU",
        "colab": {
          "base_uri": "https://localhost:8080/",
          "height": 278
        },
        "outputId": "a9106b5a-ddf8-4fab-8c6c-5e943103eab6"
      },
      "source": [
        "# YOUR CODE HERE\n",
        "import matplotlib.pyplot as plt\n",
        "for i,price in enumerate(client_preds):\n",
        "    plt.hist(y, bins = 30,color='r',ec='black')\n",
        "    plt.axvline(price, lw = 3)\n",
        "    plt.text(price-50000, 40, 'Client '+str(i+1), rotation=90)\n"
      ],
      "execution_count": null,
      "outputs": [
        {
          "output_type": "display_data",
          "data": {
            "image/png": "[encoded data removed]",
            "text/plain": [
              "<Figure size 432x288 with 1 Axes>"
            ]
          },
          "metadata": {
            "needs_background": "light"
          }
        }
      ]
    },
    {
      "cell_type": "markdown",
      "metadata": {
        "id": "5TjIFnYmBEwr"
      },
      "source": [
        "Do these prices seem reasonable given the values for the respective features?"
      ]
    },
    {
      "cell_type": "markdown",
      "metadata": {
        "id": "KFaUwfkdm3D5"
      },
      "source": [
        "\n",
        "1. Khá hợp lý vì:\n",
        "- Client 3: số phòng cao nhất, tỉ lệ nghèo và tỉ số HS/GV thấp nên có giá lớn nhất\n",
        "- Client 2: Số phòng đứng thứ 2 nhưng tỉ lệ ngèo và tỉ số HS/GV rất lớn nên giá thấp nhất\n",
        "- Client 1: Số phòng lớn nhất nhưng tỉ tỉ lệ nghèo và tỉ số HS/GV cao nên giá nhà chỉ đứng 2\n",
        "2. Tuy nhiên giá của Client 3 đã thuộc phần outlier trên so với phân bố giá của các căn hộ đã thu thập. "
      ]
    },
    {
      "cell_type": "markdown",
      "metadata": {
        "id": "Wwq9I7Nor0CP"
      },
      "source": [
        "# **Step 6: Applicability**\n",
        "\n",
        "In a few sentences, discuss whether the constructed model should or should not be used in a real-world setting.\n",
        "\n",
        "Hint: Take a look at the range in prices as calculated in the code snippet above. Some questions to answering:\n",
        "\n",
        "1. How relevant today is data that was collected from 1978? How important is inflation?\n",
        "  - Answer: Từ 1978 đến nay có rất nhiều thay đổi như lạm phát, các tiêu chí để định đạt giá nhà cũng thay đổi... nên giá dự đoán sẽ sai lệch đi rất nhiều nếu áp dụng cho hiện tại. Lạm phát sẽ ảnh hưởng đến giá cả chung của các hàng hóa tăng lên theo thời gian, do đó những dự đoán giá cả trong tương lai xa sẽ không còn chính xác nếu model training với các label là của hiện tại. Nên đưa yếu tố này vào khi dự đoán giá trong tương lai xa \n",
        "2. Are the features present in the data sufficient to describe a home? Do you think factors like quality of apppliances in the home, square feet of the plot area, presence of pool or not etc should factor in?\n",
        "  - Answer:Những feature trên cũng tương quan với mức giá nhà nhưng không đủ để quyết định giá 1 ngôi nhà. Các yếu tố như chất lượng của các thiết bị trong nhà, diện tích lô đất, có hồ bơi hay không, v.v. là những yếu tố thiết yếu quyết định rất lớn đến giá cả ngôi nhà và cần đưa vào model để dự đoán của mình xác với thực tế hơn\n",
        "3. Is the model robust enough to make consistent predictions?\n",
        "Would data collected in an urban city like Boston be applicable in a rural city?\n",
        "  - Answer:Không đủ mạnh để dự đoán, bằng chứng là MAE rất cao (MAE thấp nhất bằng khoảng 10% giá trung bình 1 ngôi nhà), bởi vì có rất nhiều yếu tố quyết định đến giá 1 ngôi nhà mà các yếu tố đưa vào model là quá ít và không đủ sức mạnh để dự đoán. Không thể áp dụng cho các vùng nông thôn, giả sử mô hình dự đoán tốt thì cũng chỉ có thể áp dụng trên những vùng tương tự như Boston\n",
        "4. Is it fair to judge the price of an individual home based on the characteristics of the entire neighborhood?\n",
        "  - Answer:Không, vì mỗi ngôi nhà có 1 đặc tính khác nhau như diện tích, thiết bị trong nhà... dẫn đến chênh lệch mức giá giữa các ngôi nhà trong cùng khu vực. "
      ]
    }
  ]
}